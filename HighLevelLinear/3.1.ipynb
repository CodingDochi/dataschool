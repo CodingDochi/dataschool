{
 "cells": [
  {
   "cell_type": "code",
   "execution_count": 2,
   "metadata": {},
   "outputs": [],
   "source": [
    "import numpy as np"
   ]
  },
  {
   "cell_type": "markdown",
   "metadata": {},
   "source": [
    "### 연습문제 3.1.1"
   ]
  },
  {
   "cell_type": "code",
   "execution_count": 3,
   "metadata": {},
   "outputs": [
    {
     "name": "stdout",
     "output_type": "stream",
     "text": [
      "[[-0.33333333]\n",
      " [ 1.66666667]]\n",
      "[[-0.33333333]\n",
      " [-0.33333333]]\n"
     ]
    }
   ],
   "source": [
    "x1 = np.array([[1], [2]])\n",
    "x2 = np.array([[2], [1]])\n",
    "\n",
    "# A 행렬 구성\n",
    "A = np.column_stack((x1, x2))\n",
    "\n",
    "# A의 역행렬\n",
    "A_inv = np.linalg.inv(A)\n",
    "\n",
    "# 1번 방정식의 우변 b\n",
    "b1 = np.array([[3], [1]])\n",
    "c1c2_1 = A_inv @ b1\n",
    "print(c1c2_1)\n",
    "\n",
    "# 2번 방정식의 우변 b\n",
    "b2 = np.array([[-1], [-1]])\n",
    "c1c2_2 = A_inv @ b2\n",
    "print(c1c2_2)"
   ]
  },
  {
   "cell_type": "markdown",
   "metadata": {},
   "source": [
    "### 연습문제 3.1.3"
   ]
  },
  {
   "cell_type": "markdown",
   "metadata": {},
   "source": [
    "#### (1)"
   ]
  },
  {
   "cell_type": "code",
   "execution_count": 4,
   "metadata": {},
   "outputs": [],
   "source": [
    "x = np.array([[1], [0]])\n",
    "\n",
    "# 직교 조건을 만족하는 벡터의 일반적인 형식\n",
    "# u = [u1, u2] satisfying x1 · u = 0\n",
    "# Since x1 = [1, 0], the condition becomes: 1 * u1 + 0 * u2 = 0\n",
    "# Therefore, u1 = 0, and u = [0, u2]\n",
    "\n",
    "# u2를 1로 설정해 단순히 대표 벡터를 찾음\n",
    "orthogonal_vector = np.array([0, 1])"
   ]
  },
  {
   "cell_type": "markdown",
   "metadata": {},
   "source": [
    "#### (2)"
   ]
  },
  {
   "cell_type": "code",
   "execution_count": 5,
   "metadata": {},
   "outputs": [
    {
     "name": "stdout",
     "output_type": "stream",
     "text": [
      "직교 벡터: [-1  1]\n",
      "단위 직교 벡터: [-0.70710678  0.70710678]\n"
     ]
    }
   ],
   "source": [
    "from scipy.linalg import null_space\n",
    "\n",
    "x = np.array([[1], [1]])\n",
    "\n",
    "# 직교하는 벡터 계산 (일반적인 해: [-1, 1])\n",
    "orthogonal_vector = np.array([-1, 1])\n",
    "\n",
    "# 단위 벡터로 정규화\n",
    "unit_vector = orthogonal_vector / np.linalg.norm(orthogonal_vector)\n",
    "\n",
    "print(\"직교 벡터:\", orthogonal_vector)\n",
    "print(\"단위 직교 벡터:\", unit_vector)"
   ]
  },
  {
   "cell_type": "markdown",
   "metadata": {},
   "source": [
    "#### (3)"
   ]
  },
  {
   "cell_type": "code",
   "execution_count": 6,
   "metadata": {},
   "outputs": [
    {
     "name": "stdout",
     "output_type": "stream",
     "text": [
      "두 벡터에 직교하는 단위 벡터: [0. 0. 1.]\n"
     ]
    }
   ],
   "source": [
    "# 주어진 벡터 x와 y\n",
    "x = np.array([1, 1, 0])\n",
    "y = np.array([1, 0, 0])\n",
    "\n",
    "# 두 벡터에 직교하는 벡터를 찾기 위해 행렬 방정식 구성\n",
    "A = np.vstack([x, y])  # x와 y를 쌓아 행렬 A를 만듦\n",
    "b = np.array([0, 0])  # 결과는 0 벡터\n",
    "\n",
    "# null space를 직접 계산: A · u = 0 만족하는 u를 찾음\n",
    "# 자유 변수를 사용해 해를 계산\n",
    "u = np.array([0, 0, 1])  # 직교하는 벡터 (z축 방향)\n",
    "\n",
    "# 단위 벡터로 정규화\n",
    "unit_vector = u / np.linalg.norm(u)\n",
    "\n",
    "print(\"두 벡터에 직교하는 단위 벡터:\", unit_vector)"
   ]
  },
  {
   "cell_type": "markdown",
   "metadata": {},
   "source": [
    "### 연습문제 3.1.6"
   ]
  },
  {
   "cell_type": "code",
   "execution_count": 7,
   "metadata": {},
   "outputs": [
    {
     "name": "stdout",
     "output_type": "stream",
     "text": [
      "5.385164807134504\n",
      "4.242640687119285\n",
      "3.605551275463989\n",
      "[[0.36112344]]\n",
      "[[0.04761905]]\n",
      "[[0.40371521]]\n"
     ]
    }
   ],
   "source": [
    "a = np.array([[4], [5], [2], [2]])\n",
    "b = np.array([[4], [0], [2], [0]])\n",
    "c = np.array([[2], [2], [0], [1]])\n",
    "\n",
    "euclid_ab = np.linalg.norm(a - b) \n",
    "euclid_ac = np.linalg.norm(a - c)\n",
    "euclid_bc = np.linalg.norm(b - c)\n",
    "\n",
    "print(euclid_ab)\n",
    "print(euclid_ac)\n",
    "print(euclid_bc)\n",
    "\n",
    "cosine_ab = 1 - (a.T @ b) / (np.linalg.norm(a) * np.linalg.norm(b))\n",
    "cosine_ac = 1 - (a.T @ c) / (np.linalg.norm(a) * np.linalg.norm(c))\n",
    "cosine_bc = 1 - (b.T @ c) / (np.linalg.norm(b) * np.linalg.norm(c))\n",
    "\n",
    "print(cosine_ab)\n",
    "print(cosine_ac)\n",
    "print(cosine_bc)"
   ]
  },
  {
   "cell_type": "markdown",
   "metadata": {},
   "source": [
    "### 연습문제 3.1.8"
   ]
  },
  {
   "cell_type": "code",
   "execution_count": 14,
   "metadata": {},
   "outputs": [
    {
     "name": "stdout",
     "output_type": "stream",
     "text": [
      "[[1.]\n",
      " [0.]]\n",
      "[[0.]\n",
      " [2.]]\n"
     ]
    }
   ],
   "source": [
    "a = np.array([[1], [2]])\n",
    "b = np.array([[2], [0]])\n",
    "\n",
    "# b의 크기의 제곱 계산\n",
    "b_norm_squared = np.dot(b.T, b)\n",
    "\n",
    "# 투영성분 계산\n",
    "a_parallel_b = (np.dot(a.T, b) / b_norm_squared) * b \n",
    "\n",
    "# 직교성분 계산\n",
    "a_perpendicular_b = a - a_parallel_b\n",
    "\n",
    "print(a_parallel_b)\n",
    "print(a_perpendicular_b)"
   ]
  },
  {
   "cell_type": "markdown",
   "metadata": {},
   "source": [
    "### 연습문제 3.1.9"
   ]
  },
  {
   "cell_type": "code",
   "execution_count": 16,
   "metadata": {},
   "outputs": [
    {
     "name": "stdout",
     "output_type": "stream",
     "text": [
      "[[3.]]\n",
      "[[4.]]\n",
      "[[16.]]\n"
     ]
    }
   ],
   "source": [
    "# 단위벡터 v 정의 \n",
    "v = np.array([[1], [0]])\n",
    "v = v / np.linalg.norm(v)\n",
    "\n",
    "# 임의의 점 x 정의\n",
    "x = np.array([[3], [4]])\n",
    "\n",
    "# x의 크기 제곱\n",
    "x_norm_squared = np.dot(x.T, x)\n",
    "\n",
    "# x를 v에 투영한 값\n",
    "projection = np.dot(x.T, v)\n",
    "print(projection)\n",
    "\n",
    "# 거리 계산 (직교 성분의 크기)\n",
    "distance = np.sqrt(x_norm_squared - projection**2)\n",
    "print(distance)\n",
    "\n",
    "# 거리 제곱 계산\n",
    "distance_squared = x_norm_squared - projection**2\n",
    "print(distance_squared)"
   ]
  },
  {
   "cell_type": "code",
   "execution_count": null,
   "metadata": {},
   "outputs": [],
   "source": []
  }
 ],
 "metadata": {
  "kernelspec": {
   "display_name": "school",
   "language": "python",
   "name": "python3"
  },
  "language_info": {
   "codemirror_mode": {
    "name": "ipython",
    "version": 3
   },
   "file_extension": ".py",
   "mimetype": "text/x-python",
   "name": "python",
   "nbconvert_exporter": "python",
   "pygments_lexer": "ipython3",
   "version": "3.10.12"
  }
 },
 "nbformat": 4,
 "nbformat_minor": 2
}
