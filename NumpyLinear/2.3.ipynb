{
 "cells": [
  {
   "cell_type": "code",
   "execution_count": 2,
   "metadata": {},
   "outputs": [],
   "source": [
    "import numpy as np"
   ]
  },
  {
   "cell_type": "markdown",
   "metadata": {},
   "source": [
    "### 연습문제 2.3.2"
   ]
  },
  {
   "cell_type": "code",
   "execution_count": 3,
   "metadata": {},
   "outputs": [],
   "source": [
    "# 임의의 행렬 A 정의\n",
    "A = np.array([[1, 2, 3],\n",
    "              [4, 5, 6],\n",
    "              [7, 8, 9]])"
   ]
  },
  {
   "cell_type": "code",
   "execution_count": 6,
   "metadata": {},
   "outputs": [
    {
     "name": "stdout",
     "output_type": "stream",
     "text": [
      "285\n",
      "True\n"
     ]
    }
   ],
   "source": [
    "# ||A||^2 계산: 행렬 A의 모든 요소 제곱의 합\n",
    "norm_A_squared = np.sum(A**2)\n",
    "\n",
    "# 위에서 아래로 열방향 계산, 행 벡터의 제곱합 총합\n",
    "norm_row_squared = np.sum(np.sum(A**2, axis=1))\n",
    "\n",
    "# 왼쪽에서 오른쪽으로 행 방향 계산, 열 벡터의 제곱합 총합\n",
    "norm_col_squared = np.sum(np.sum(A**2, axis=0))\n",
    "\n",
    "print(norm_A_squared)\n",
    "print(np.allclose(norm_A_squared, norm_row_squared) and np.allclose(norm_A_squared, norm_col_squared))"
   ]
  },
  {
   "cell_type": "markdown",
   "metadata": {},
   "source": [
    "### 연습문제 2.3.3"
   ]
  },
  {
   "cell_type": "code",
   "execution_count": 14,
   "metadata": {},
   "outputs": [
    {
     "name": "stdout",
     "output_type": "stream",
     "text": [
      "[[45]]\n",
      "[[45]]\n",
      "[[13 16]\n",
      " [26 32]]\n",
      "[[13 16]\n",
      " [26 32]]\n",
      "[[11 22]\n",
      " [17 34]]\n",
      "[[11 22]\n",
      " [17 34]]\n"
     ]
    }
   ],
   "source": [
    "x = np.array([[1], [2]])\n",
    "A = np.array([[3, 4], [5, 6]])\n",
    "\n",
    "# 이차형식의 대각합\n",
    "xTAx = x.T @ A @ x\n",
    "print(xTAx)\n",
    "\n",
    "tr_xTAx = np.trace(np.array([[xTAx]]))\n",
    "print(tr_xTAx)\n",
    "\n",
    "xxTA = x @ x.T @ A\n",
    "print(xxTA)\n",
    "\n",
    "tr_xxTA = np.trace(np.array([[xxTA]]))\n",
    "print(tr_xxTA)\n",
    "\n",
    "AxxT = A @ x @ x.T \n",
    "print(AxxT)\n",
    "\n",
    "tr_AxxT = np.trace(np.array([[AxxT]]))\n",
    "print(tr_AxxT)"
   ]
  },
  {
   "cell_type": "markdown",
   "metadata": {},
   "source": [
    "### 연습문제 2.3.5"
   ]
  },
  {
   "cell_type": "code",
   "execution_count": 16,
   "metadata": {},
   "outputs": [
    {
     "name": "stdout",
     "output_type": "stream",
     "text": [
      "30\n",
      "[[10 14]\n",
      " [14 20]]\n",
      "30\n"
     ]
    }
   ],
   "source": [
    "A = np.array([[1, 2], [3, 4]])\n",
    "norm_A_squared = np.sum(A**2)\n",
    "print(norm_A_squared)\n",
    "\n",
    "ATA = A.T @ A\n",
    "print(ATA)\n",
    "\n",
    "tr_ATA = np.trace(ATA)\n",
    "print(tr_ATA)"
   ]
  },
  {
   "cell_type": "markdown",
   "metadata": {},
   "source": [
    "### 연습문제 2.3.6"
   ]
  },
  {
   "cell_type": "code",
   "execution_count": 20,
   "metadata": {},
   "outputs": [
    {
     "name": "stdout",
     "output_type": "stream",
     "text": [
      "-3\n",
      "-3\n",
      "0\n",
      "0\n"
     ]
    }
   ],
   "source": [
    "A = np.array([[5, 6], [8, 9]])\n",
    "B = np.array([[1, 2, 3], [4, 5, 6], [7, 8, 9]])\n",
    "\n",
    "j_0 = 1\n",
    "det_A = ((-1)**(1+1))*9*5 + ((-1)**(2+1))*6*8\n",
    "print(det_A)\n",
    "det_AA = 5*9 - 6*8\n",
    "print(det_AA)\n",
    "\n",
    "det_M1 = det_A\n",
    "det_M2 = ((-1)**(1+1))*9*2 + ((-1)**(2+1))*3*8\n",
    "det_M3 = ((-1)**(1+1))*6*2 + ((-1)**(2+1))*3*5\n",
    "\n",
    "det_B = ((-1)**(1+1))*det_M1*1 + ((-1)**(2+1))*det_M2*4 + ((-1)**(3+1))*det_M3*7\n",
    "print(det_B)\n",
    "det_BB = 1*5*9 - 1*6*8 - 2*4*9 + 3*4*8 + 2*6*7 - 3*5*7 \n",
    "print(det_BB)\n"
   ]
  },
  {
   "cell_type": "markdown",
   "metadata": {},
   "source": [
    "### 연습문제 2.3.7"
   ]
  },
  {
   "cell_type": "code",
   "execution_count": 25,
   "metadata": {},
   "outputs": [
    {
     "name": "stdout",
     "output_type": "stream",
     "text": [
      "[[12]]\n",
      "[[27]]\n",
      "6\n",
      "5\n",
      "4\n",
      "-2\n",
      "4.0\n",
      "-2.0000000000000004\n"
     ]
    }
   ],
   "source": [
    "A = np.array([[2, -1, 0], [-1, 2, -1], [0, -1, 2]])\n",
    "B = np.array([[1, 2], [3, 4]])\n",
    "\n",
    "C = np.array([[1], [2], [3]])\n",
    "D = np.array([[1], [2]])\n",
    "print(C.T @ A @ C)\n",
    "print(D.T @ B @ D)\n",
    "\n",
    "tr_A = np.trace(A)\n",
    "tr_B = np.trace(B)\n",
    "print(tr_A)\n",
    "print(tr_B)\n",
    "\n",
    "det_A = ((-1)**(1+1))*2*(2*2 - (-1)*(-1)) + ((-1)**(2+1))*(-1)*((-1)*2 - 0*(-1)) + ((-1)**(3+1))*(0)*((-1)*(-1) - 0*2)\n",
    "det_B = 1*(4) - 2*3\n",
    "print(det_A)\n",
    "print(det_B)\n",
    "\n",
    "print(np.linalg.det(A))\n",
    "print(np.linalg.det(B))"
   ]
  },
  {
   "cell_type": "markdown",
   "metadata": {},
   "source": []
  }
 ],
 "metadata": {
  "kernelspec": {
   "display_name": "school",
   "language": "python",
   "name": "python3"
  },
  "language_info": {
   "codemirror_mode": {
    "name": "ipython",
    "version": 3
   },
   "file_extension": ".py",
   "mimetype": "text/x-python",
   "name": "python",
   "nbconvert_exporter": "python",
   "pygments_lexer": "ipython3",
   "version": "3.10.12"
  }
 },
 "nbformat": 4,
 "nbformat_minor": 2
}
