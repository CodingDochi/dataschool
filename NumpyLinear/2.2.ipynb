{
 "cells": [
  {
   "cell_type": "code",
   "execution_count": 2,
   "metadata": {},
   "outputs": [],
   "source": [
    "import numpy as np"
   ]
  },
  {
   "cell_type": "markdown",
   "metadata": {},
   "source": [
    "### 연습문제 2.2.4"
   ]
  },
  {
   "cell_type": "markdown",
   "metadata": {},
   "source": [
    "#### (1)"
   ]
  },
  {
   "cell_type": "code",
   "execution_count": 3,
   "metadata": {},
   "outputs": [],
   "source": [
    "A = np.array([[1, 2, 3], [4, 5, 6]])\n",
    "B = np.array([[1, 2], [3, 4], [5, 6]])"
   ]
  },
  {
   "cell_type": "code",
   "execution_count": 4,
   "metadata": {},
   "outputs": [
    {
     "name": "stdout",
     "output_type": "stream",
     "text": [
      "[[22 28]\n",
      " [49 64]]\n"
     ]
    }
   ],
   "source": [
    "AB = A@B\n",
    "print(AB)"
   ]
  },
  {
   "cell_type": "markdown",
   "metadata": {},
   "source": [
    "#### (2)"
   ]
  },
  {
   "cell_type": "code",
   "execution_count": 5,
   "metadata": {},
   "outputs": [
    {
     "name": "stdout",
     "output_type": "stream",
     "text": [
      "[[ 9 12 15]\n",
      " [19 26 33]\n",
      " [29 40 51]]\n"
     ]
    }
   ],
   "source": [
    "BA = B@A\n",
    "print(BA)"
   ]
  },
  {
   "cell_type": "markdown",
   "metadata": {},
   "source": [
    "#### (3)"
   ]
  },
  {
   "cell_type": "code",
   "execution_count": 6,
   "metadata": {},
   "outputs": [],
   "source": [
    "A = np.array([1, 2, 3])\n",
    "B = np.array([[4, 5, 6], [7, 8, 9]])"
   ]
  },
  {
   "cell_type": "code",
   "execution_count": 7,
   "metadata": {},
   "outputs": [
    {
     "ename": "ValueError",
     "evalue": "shapes (3,) and (2,3) not aligned: 3 (dim 0) != 2 (dim 0)",
     "output_type": "error",
     "traceback": [
      "\u001b[0;31m---------------------------------------------------------------------------\u001b[0m",
      "\u001b[0;31mValueError\u001b[0m                                Traceback (most recent call last)",
      "Cell \u001b[0;32mIn[7], line 1\u001b[0m\n\u001b[0;32m----> 1\u001b[0m AB \u001b[38;5;241m=\u001b[39m \u001b[43mnp\u001b[49m\u001b[38;5;241;43m.\u001b[39;49m\u001b[43mdot\u001b[49m\u001b[43m(\u001b[49m\u001b[43mA\u001b[49m\u001b[43m,\u001b[49m\u001b[43m \u001b[49m\u001b[43mB\u001b[49m\u001b[43m)\u001b[49m\n",
      "\u001b[0;31mValueError\u001b[0m: shapes (3,) and (2,3) not aligned: 3 (dim 0) != 2 (dim 0)"
     ]
    }
   ],
   "source": [
    "AB = np.dot(A, B)"
   ]
  },
  {
   "cell_type": "code",
   "execution_count": 11,
   "metadata": {},
   "outputs": [
    {
     "name": "stdout",
     "output_type": "stream",
     "text": [
      "[32 50]\n"
     ]
    }
   ],
   "source": [
    "BA = np.dot(B, A)\n",
    "print(BA)"
   ]
  },
  {
   "cell_type": "markdown",
   "metadata": {},
   "source": [
    "#### (4)"
   ]
  },
  {
   "cell_type": "code",
   "execution_count": 12,
   "metadata": {},
   "outputs": [],
   "source": [
    "A = np.array([[1, 2], [3, 4]])\n",
    "B = np.array([[5, 6], [7, 8]])"
   ]
  },
  {
   "cell_type": "code",
   "execution_count": 13,
   "metadata": {},
   "outputs": [
    {
     "name": "stdout",
     "output_type": "stream",
     "text": [
      "[[19 22]\n",
      " [43 50]]\n",
      "[[23 34]\n",
      " [31 46]]\n"
     ]
    }
   ],
   "source": [
    "AB = np.dot(A, B)\n",
    "print(AB)\n",
    "BA = np.dot(B, A)\n",
    "print(BA)"
   ]
  },
  {
   "cell_type": "markdown",
   "metadata": {},
   "source": [
    "#### (5)"
   ]
  },
  {
   "cell_type": "code",
   "execution_count": 15,
   "metadata": {},
   "outputs": [
    {
     "name": "stdout",
     "output_type": "stream",
     "text": [
      "[[1 2]\n",
      " [3 4]\n",
      " [5 6]]\n",
      "[[1 3 5]\n",
      " [2 4 6]]\n"
     ]
    }
   ],
   "source": [
    "A = np.array([[1, 2], [3, 4], [5, 6]])\n",
    "print(A)\n",
    "print(A.T)"
   ]
  },
  {
   "cell_type": "code",
   "execution_count": 16,
   "metadata": {},
   "outputs": [
    {
     "name": "stdout",
     "output_type": "stream",
     "text": [
      "[[ 5 11 17]\n",
      " [11 25 39]\n",
      " [17 39 61]]\n"
     ]
    }
   ],
   "source": [
    "AAT = A@A.T\n",
    "print(AAT)"
   ]
  },
  {
   "cell_type": "code",
   "execution_count": 17,
   "metadata": {},
   "outputs": [
    {
     "name": "stdout",
     "output_type": "stream",
     "text": [
      "[[35 44]\n",
      " [44 56]]\n"
     ]
    }
   ],
   "source": [
    "ATA = A.T@A\n",
    "print(ATA)"
   ]
  },
  {
   "cell_type": "markdown",
   "metadata": {},
   "source": [
    "#### (6)"
   ]
  },
  {
   "cell_type": "code",
   "execution_count": 18,
   "metadata": {},
   "outputs": [
    {
     "name": "stdout",
     "output_type": "stream",
     "text": [
      "[[1]\n",
      " [2]\n",
      " [3]]\n",
      "[[1 2 3]]\n"
     ]
    }
   ],
   "source": [
    "x = np.array([[1], [2], [3]])\n",
    "print(x)\n",
    "print(x.T)"
   ]
  },
  {
   "cell_type": "code",
   "execution_count": 19,
   "metadata": {},
   "outputs": [
    {
     "name": "stdout",
     "output_type": "stream",
     "text": [
      "[[14]]\n"
     ]
    }
   ],
   "source": [
    "XTX = x.T@x\n",
    "print(XTX)"
   ]
  },
  {
   "cell_type": "code",
   "execution_count": 20,
   "metadata": {},
   "outputs": [
    {
     "name": "stdout",
     "output_type": "stream",
     "text": [
      "[[1 2 3]\n",
      " [2 4 6]\n",
      " [3 6 9]]\n"
     ]
    }
   ],
   "source": [
    "XXT = x@x.T\n",
    "print(XXT)"
   ]
  },
  {
   "cell_type": "markdown",
   "metadata": {},
   "source": [
    "### 연습문제 2.5.5"
   ]
  },
  {
   "cell_type": "markdown",
   "metadata": {},
   "source": [
    "#### (1)"
   ]
  },
  {
   "cell_type": "code",
   "execution_count": 104,
   "metadata": {},
   "outputs": [
    {
     "name": "stdout",
     "output_type": "stream",
     "text": [
      "[[1]\n",
      " [2]\n",
      " [3]]\n",
      "[[1.]\n",
      " [1.]\n",
      " [1.]]\n"
     ]
    }
   ],
   "source": [
    "x = np.array([[1], [2], [3]])\n",
    "N = x.shape[0]\n",
    "one_N = np.ones((N, 1))\n",
    "\n",
    "print(x)\n",
    "print(one_N)"
   ]
  },
  {
   "cell_type": "code",
   "execution_count": 105,
   "metadata": {},
   "outputs": [
    {
     "name": "stdout",
     "output_type": "stream",
     "text": [
      "[[1 2 3]]\n",
      "[[1. 2. 3.]\n",
      " [1. 2. 3.]\n",
      " [1. 2. 3.]]\n"
     ]
    }
   ],
   "source": [
    "print(x.T)\n",
    "res =  one_N @ x.T\n",
    "print(res)"
   ]
  },
  {
   "cell_type": "code",
   "execution_count": 103,
   "metadata": {},
   "outputs": [
    {
     "name": "stdout",
     "output_type": "stream",
     "text": [
      "[[[1 2 3]]\n",
      "\n",
      " [[1 2 3]]\n",
      "\n",
      " [[1 2 3]]]\n"
     ]
    }
   ],
   "source": [
    "repeated_x = np.array([x.T, x.T, x.T])\n",
    "print(repeated_x)"
   ]
  },
  {
   "cell_type": "markdown",
   "metadata": {},
   "source": [
    "#### (2)"
   ]
  },
  {
   "cell_type": "code",
   "execution_count": 95,
   "metadata": {},
   "outputs": [
    {
     "name": "stdout",
     "output_type": "stream",
     "text": [
      "[[ 1  2  3]\n",
      " [ 4  5  6]\n",
      " [ 7  8  9]\n",
      " [10 11 12]]\n"
     ]
    }
   ],
   "source": [
    "X = np.array([[1, 2, 3], [4, 5, 6], [7, 8, 9], [10, 11, 12]])\n",
    "print(X)"
   ]
  },
  {
   "cell_type": "code",
   "execution_count": 112,
   "metadata": {},
   "outputs": [
    {
     "name": "stdout",
     "output_type": "stream",
     "text": [
      "[[5.5 6.5 7.5]]\n"
     ]
    }
   ],
   "source": [
    "# 각 열의 평균으로 이루어진 벡터 구하기\n",
    "N = X.shape[0] # 행 개수\n",
    "M = X.shape[1] # 열 개수\n",
    "arr = []\n",
    "\n",
    "for i in range(M) :\n",
    "    x_bar = np.sum(X.T[i]) / N\n",
    "    arr.append(x_bar)\n",
    "\n",
    "x_bar = np.array([arr])\n",
    "print(x_bar)"
   ]
  },
  {
   "cell_type": "code",
   "execution_count": 114,
   "metadata": {},
   "outputs": [
    {
     "name": "stdout",
     "output_type": "stream",
     "text": [
      "[5.5 6.5 7.5]\n"
     ]
    }
   ],
   "source": [
    "print(1/N * (X.T @ np.ones(N)))"
   ]
  },
  {
   "cell_type": "markdown",
   "metadata": {},
   "source": [
    "#### (3)"
   ]
  },
  {
   "cell_type": "code",
   "execution_count": 134,
   "metadata": {},
   "outputs": [
    {
     "name": "stdout",
     "output_type": "stream",
     "text": [
      "[[5.5 6.5 7.5]\n",
      " [5.5 6.5 7.5]\n",
      " [5.5 6.5 7.5]\n",
      " [5.5 6.5 7.5]]\n"
     ]
    }
   ],
   "source": [
    "X_bar = np.tile(x_bar, (N, 1))\n",
    "print(X_bar)"
   ]
  },
  {
   "cell_type": "code",
   "execution_count": 130,
   "metadata": {},
   "outputs": [
    {
     "name": "stdout",
     "output_type": "stream",
     "text": [
      "[[5.5 6.5 7.5]\n",
      " [5.5 6.5 7.5]\n",
      " [5.5 6.5 7.5]\n",
      " [5.5 6.5 7.5]]\n"
     ]
    }
   ],
   "source": [
    "print(1/N * np.dot(np.ones((N, 1)), np.ones((N, 1)).T) @ X)"
   ]
  },
  {
   "cell_type": "markdown",
   "metadata": {},
   "source": [
    "#### (4)"
   ]
  },
  {
   "cell_type": "code",
   "execution_count": 136,
   "metadata": {},
   "outputs": [],
   "source": [
    "from sklearn.datasets import load_iris\n",
    "X = load_iris().data"
   ]
  },
  {
   "cell_type": "code",
   "execution_count": 138,
   "metadata": {},
   "outputs": [
    {
     "name": "stdout",
     "output_type": "stream",
     "text": [
      "[[5.1 3.5 1.4 0.2]\n",
      " [4.9 3.  1.4 0.2]\n",
      " [4.7 3.2 1.3 0.2]\n",
      " [4.6 3.1 1.5 0.2]\n",
      " [5.  3.6 1.4 0.2]\n",
      " [5.4 3.9 1.7 0.4]\n",
      " [4.6 3.4 1.4 0.3]\n",
      " [5.  3.4 1.5 0.2]\n",
      " [4.4 2.9 1.4 0.2]\n",
      " [4.9 3.1 1.5 0.1]\n",
      " [5.4 3.7 1.5 0.2]\n",
      " [4.8 3.4 1.6 0.2]\n",
      " [4.8 3.  1.4 0.1]\n",
      " [4.3 3.  1.1 0.1]\n",
      " [5.8 4.  1.2 0.2]\n",
      " [5.7 4.4 1.5 0.4]\n",
      " [5.4 3.9 1.3 0.4]\n",
      " [5.1 3.5 1.4 0.3]\n",
      " [5.7 3.8 1.7 0.3]\n",
      " [5.1 3.8 1.5 0.3]\n",
      " [5.4 3.4 1.7 0.2]\n",
      " [5.1 3.7 1.5 0.4]\n",
      " [4.6 3.6 1.  0.2]\n",
      " [5.1 3.3 1.7 0.5]\n",
      " [4.8 3.4 1.9 0.2]\n",
      " [5.  3.  1.6 0.2]\n",
      " [5.  3.4 1.6 0.4]\n",
      " [5.2 3.5 1.5 0.2]\n",
      " [5.2 3.4 1.4 0.2]\n",
      " [4.7 3.2 1.6 0.2]\n",
      " [4.8 3.1 1.6 0.2]\n",
      " [5.4 3.4 1.5 0.4]\n",
      " [5.2 4.1 1.5 0.1]\n",
      " [5.5 4.2 1.4 0.2]\n",
      " [4.9 3.1 1.5 0.2]\n",
      " [5.  3.2 1.2 0.2]\n",
      " [5.5 3.5 1.3 0.2]\n",
      " [4.9 3.6 1.4 0.1]\n",
      " [4.4 3.  1.3 0.2]\n",
      " [5.1 3.4 1.5 0.2]\n",
      " [5.  3.5 1.3 0.3]\n",
      " [4.5 2.3 1.3 0.3]\n",
      " [4.4 3.2 1.3 0.2]\n",
      " [5.  3.5 1.6 0.6]\n",
      " [5.1 3.8 1.9 0.4]\n",
      " [4.8 3.  1.4 0.3]\n",
      " [5.1 3.8 1.6 0.2]\n",
      " [4.6 3.2 1.4 0.2]\n",
      " [5.3 3.7 1.5 0.2]\n",
      " [5.  3.3 1.4 0.2]\n",
      " [7.  3.2 4.7 1.4]\n",
      " [6.4 3.2 4.5 1.5]\n",
      " [6.9 3.1 4.9 1.5]\n",
      " [5.5 2.3 4.  1.3]\n",
      " [6.5 2.8 4.6 1.5]\n",
      " [5.7 2.8 4.5 1.3]\n",
      " [6.3 3.3 4.7 1.6]\n",
      " [4.9 2.4 3.3 1. ]\n",
      " [6.6 2.9 4.6 1.3]\n",
      " [5.2 2.7 3.9 1.4]\n",
      " [5.  2.  3.5 1. ]\n",
      " [5.9 3.  4.2 1.5]\n",
      " [6.  2.2 4.  1. ]\n",
      " [6.1 2.9 4.7 1.4]\n",
      " [5.6 2.9 3.6 1.3]\n",
      " [6.7 3.1 4.4 1.4]\n",
      " [5.6 3.  4.5 1.5]\n",
      " [5.8 2.7 4.1 1. ]\n",
      " [6.2 2.2 4.5 1.5]\n",
      " [5.6 2.5 3.9 1.1]\n",
      " [5.9 3.2 4.8 1.8]\n",
      " [6.1 2.8 4.  1.3]\n",
      " [6.3 2.5 4.9 1.5]\n",
      " [6.1 2.8 4.7 1.2]\n",
      " [6.4 2.9 4.3 1.3]\n",
      " [6.6 3.  4.4 1.4]\n",
      " [6.8 2.8 4.8 1.4]\n",
      " [6.7 3.  5.  1.7]\n",
      " [6.  2.9 4.5 1.5]\n",
      " [5.7 2.6 3.5 1. ]\n",
      " [5.5 2.4 3.8 1.1]\n",
      " [5.5 2.4 3.7 1. ]\n",
      " [5.8 2.7 3.9 1.2]\n",
      " [6.  2.7 5.1 1.6]\n",
      " [5.4 3.  4.5 1.5]\n",
      " [6.  3.4 4.5 1.6]\n",
      " [6.7 3.1 4.7 1.5]\n",
      " [6.3 2.3 4.4 1.3]\n",
      " [5.6 3.  4.1 1.3]\n",
      " [5.5 2.5 4.  1.3]\n",
      " [5.5 2.6 4.4 1.2]\n",
      " [6.1 3.  4.6 1.4]\n",
      " [5.8 2.6 4.  1.2]\n",
      " [5.  2.3 3.3 1. ]\n",
      " [5.6 2.7 4.2 1.3]\n",
      " [5.7 3.  4.2 1.2]\n",
      " [5.7 2.9 4.2 1.3]\n",
      " [6.2 2.9 4.3 1.3]\n",
      " [5.1 2.5 3.  1.1]\n",
      " [5.7 2.8 4.1 1.3]\n",
      " [6.3 3.3 6.  2.5]\n",
      " [5.8 2.7 5.1 1.9]\n",
      " [7.1 3.  5.9 2.1]\n",
      " [6.3 2.9 5.6 1.8]\n",
      " [6.5 3.  5.8 2.2]\n",
      " [7.6 3.  6.6 2.1]\n",
      " [4.9 2.5 4.5 1.7]\n",
      " [7.3 2.9 6.3 1.8]\n",
      " [6.7 2.5 5.8 1.8]\n",
      " [7.2 3.6 6.1 2.5]\n",
      " [6.5 3.2 5.1 2. ]\n",
      " [6.4 2.7 5.3 1.9]\n",
      " [6.8 3.  5.5 2.1]\n",
      " [5.7 2.5 5.  2. ]\n",
      " [5.8 2.8 5.1 2.4]\n",
      " [6.4 3.2 5.3 2.3]\n",
      " [6.5 3.  5.5 1.8]\n",
      " [7.7 3.8 6.7 2.2]\n",
      " [7.7 2.6 6.9 2.3]\n",
      " [6.  2.2 5.  1.5]\n",
      " [6.9 3.2 5.7 2.3]\n",
      " [5.6 2.8 4.9 2. ]\n",
      " [7.7 2.8 6.7 2. ]\n",
      " [6.3 2.7 4.9 1.8]\n",
      " [6.7 3.3 5.7 2.1]\n",
      " [7.2 3.2 6.  1.8]\n",
      " [6.2 2.8 4.8 1.8]\n",
      " [6.1 3.  4.9 1.8]\n",
      " [6.4 2.8 5.6 2.1]\n",
      " [7.2 3.  5.8 1.6]\n",
      " [7.4 2.8 6.1 1.9]\n",
      " [7.9 3.8 6.4 2. ]\n",
      " [6.4 2.8 5.6 2.2]\n",
      " [6.3 2.8 5.1 1.5]\n",
      " [6.1 2.6 5.6 1.4]\n",
      " [7.7 3.  6.1 2.3]\n",
      " [6.3 3.4 5.6 2.4]\n",
      " [6.4 3.1 5.5 1.8]\n",
      " [6.  3.  4.8 1.8]\n",
      " [6.9 3.1 5.4 2.1]\n",
      " [6.7 3.1 5.6 2.4]\n",
      " [6.9 3.1 5.1 2.3]\n",
      " [5.8 2.7 5.1 1.9]\n",
      " [6.8 3.2 5.9 2.3]\n",
      " [6.7 3.3 5.7 2.5]\n",
      " [6.7 3.  5.2 2.3]\n",
      " [6.3 2.5 5.  1.9]\n",
      " [6.5 3.  5.2 2. ]\n",
      " [6.2 3.4 5.4 2.3]\n",
      " [5.9 3.  5.1 1.8]]\n"
     ]
    }
   ],
   "source": [
    "print(X)"
   ]
  },
  {
   "cell_type": "code",
   "execution_count": 139,
   "metadata": {},
   "outputs": [
    {
     "name": "stdout",
     "output_type": "stream",
     "text": [
      "[[5.84333333 3.05733333 3.758      1.19933333]\n",
      " [5.84333333 3.05733333 3.758      1.19933333]\n",
      " [5.84333333 3.05733333 3.758      1.19933333]\n",
      " [5.84333333 3.05733333 3.758      1.19933333]\n",
      " [5.84333333 3.05733333 3.758      1.19933333]\n",
      " [5.84333333 3.05733333 3.758      1.19933333]\n",
      " [5.84333333 3.05733333 3.758      1.19933333]\n",
      " [5.84333333 3.05733333 3.758      1.19933333]\n",
      " [5.84333333 3.05733333 3.758      1.19933333]\n",
      " [5.84333333 3.05733333 3.758      1.19933333]\n",
      " [5.84333333 3.05733333 3.758      1.19933333]\n",
      " [5.84333333 3.05733333 3.758      1.19933333]\n",
      " [5.84333333 3.05733333 3.758      1.19933333]\n",
      " [5.84333333 3.05733333 3.758      1.19933333]\n",
      " [5.84333333 3.05733333 3.758      1.19933333]\n",
      " [5.84333333 3.05733333 3.758      1.19933333]\n",
      " [5.84333333 3.05733333 3.758      1.19933333]\n",
      " [5.84333333 3.05733333 3.758      1.19933333]\n",
      " [5.84333333 3.05733333 3.758      1.19933333]\n",
      " [5.84333333 3.05733333 3.758      1.19933333]\n",
      " [5.84333333 3.05733333 3.758      1.19933333]\n",
      " [5.84333333 3.05733333 3.758      1.19933333]\n",
      " [5.84333333 3.05733333 3.758      1.19933333]\n",
      " [5.84333333 3.05733333 3.758      1.19933333]\n",
      " [5.84333333 3.05733333 3.758      1.19933333]\n",
      " [5.84333333 3.05733333 3.758      1.19933333]\n",
      " [5.84333333 3.05733333 3.758      1.19933333]\n",
      " [5.84333333 3.05733333 3.758      1.19933333]\n",
      " [5.84333333 3.05733333 3.758      1.19933333]\n",
      " [5.84333333 3.05733333 3.758      1.19933333]\n",
      " [5.84333333 3.05733333 3.758      1.19933333]\n",
      " [5.84333333 3.05733333 3.758      1.19933333]\n",
      " [5.84333333 3.05733333 3.758      1.19933333]\n",
      " [5.84333333 3.05733333 3.758      1.19933333]\n",
      " [5.84333333 3.05733333 3.758      1.19933333]\n",
      " [5.84333333 3.05733333 3.758      1.19933333]\n",
      " [5.84333333 3.05733333 3.758      1.19933333]\n",
      " [5.84333333 3.05733333 3.758      1.19933333]\n",
      " [5.84333333 3.05733333 3.758      1.19933333]\n",
      " [5.84333333 3.05733333 3.758      1.19933333]\n",
      " [5.84333333 3.05733333 3.758      1.19933333]\n",
      " [5.84333333 3.05733333 3.758      1.19933333]\n",
      " [5.84333333 3.05733333 3.758      1.19933333]\n",
      " [5.84333333 3.05733333 3.758      1.19933333]\n",
      " [5.84333333 3.05733333 3.758      1.19933333]\n",
      " [5.84333333 3.05733333 3.758      1.19933333]\n",
      " [5.84333333 3.05733333 3.758      1.19933333]\n",
      " [5.84333333 3.05733333 3.758      1.19933333]\n",
      " [5.84333333 3.05733333 3.758      1.19933333]\n",
      " [5.84333333 3.05733333 3.758      1.19933333]\n",
      " [5.84333333 3.05733333 3.758      1.19933333]\n",
      " [5.84333333 3.05733333 3.758      1.19933333]\n",
      " [5.84333333 3.05733333 3.758      1.19933333]\n",
      " [5.84333333 3.05733333 3.758      1.19933333]\n",
      " [5.84333333 3.05733333 3.758      1.19933333]\n",
      " [5.84333333 3.05733333 3.758      1.19933333]\n",
      " [5.84333333 3.05733333 3.758      1.19933333]\n",
      " [5.84333333 3.05733333 3.758      1.19933333]\n",
      " [5.84333333 3.05733333 3.758      1.19933333]\n",
      " [5.84333333 3.05733333 3.758      1.19933333]\n",
      " [5.84333333 3.05733333 3.758      1.19933333]\n",
      " [5.84333333 3.05733333 3.758      1.19933333]\n",
      " [5.84333333 3.05733333 3.758      1.19933333]\n",
      " [5.84333333 3.05733333 3.758      1.19933333]\n",
      " [5.84333333 3.05733333 3.758      1.19933333]\n",
      " [5.84333333 3.05733333 3.758      1.19933333]\n",
      " [5.84333333 3.05733333 3.758      1.19933333]\n",
      " [5.84333333 3.05733333 3.758      1.19933333]\n",
      " [5.84333333 3.05733333 3.758      1.19933333]\n",
      " [5.84333333 3.05733333 3.758      1.19933333]\n",
      " [5.84333333 3.05733333 3.758      1.19933333]\n",
      " [5.84333333 3.05733333 3.758      1.19933333]\n",
      " [5.84333333 3.05733333 3.758      1.19933333]\n",
      " [5.84333333 3.05733333 3.758      1.19933333]\n",
      " [5.84333333 3.05733333 3.758      1.19933333]\n",
      " [5.84333333 3.05733333 3.758      1.19933333]\n",
      " [5.84333333 3.05733333 3.758      1.19933333]\n",
      " [5.84333333 3.05733333 3.758      1.19933333]\n",
      " [5.84333333 3.05733333 3.758      1.19933333]\n",
      " [5.84333333 3.05733333 3.758      1.19933333]\n",
      " [5.84333333 3.05733333 3.758      1.19933333]\n",
      " [5.84333333 3.05733333 3.758      1.19933333]\n",
      " [5.84333333 3.05733333 3.758      1.19933333]\n",
      " [5.84333333 3.05733333 3.758      1.19933333]\n",
      " [5.84333333 3.05733333 3.758      1.19933333]\n",
      " [5.84333333 3.05733333 3.758      1.19933333]\n",
      " [5.84333333 3.05733333 3.758      1.19933333]\n",
      " [5.84333333 3.05733333 3.758      1.19933333]\n",
      " [5.84333333 3.05733333 3.758      1.19933333]\n",
      " [5.84333333 3.05733333 3.758      1.19933333]\n",
      " [5.84333333 3.05733333 3.758      1.19933333]\n",
      " [5.84333333 3.05733333 3.758      1.19933333]\n",
      " [5.84333333 3.05733333 3.758      1.19933333]\n",
      " [5.84333333 3.05733333 3.758      1.19933333]\n",
      " [5.84333333 3.05733333 3.758      1.19933333]\n",
      " [5.84333333 3.05733333 3.758      1.19933333]\n",
      " [5.84333333 3.05733333 3.758      1.19933333]\n",
      " [5.84333333 3.05733333 3.758      1.19933333]\n",
      " [5.84333333 3.05733333 3.758      1.19933333]\n",
      " [5.84333333 3.05733333 3.758      1.19933333]\n",
      " [5.84333333 3.05733333 3.758      1.19933333]\n",
      " [5.84333333 3.05733333 3.758      1.19933333]\n",
      " [5.84333333 3.05733333 3.758      1.19933333]\n",
      " [5.84333333 3.05733333 3.758      1.19933333]\n",
      " [5.84333333 3.05733333 3.758      1.19933333]\n",
      " [5.84333333 3.05733333 3.758      1.19933333]\n",
      " [5.84333333 3.05733333 3.758      1.19933333]\n",
      " [5.84333333 3.05733333 3.758      1.19933333]\n",
      " [5.84333333 3.05733333 3.758      1.19933333]\n",
      " [5.84333333 3.05733333 3.758      1.19933333]\n",
      " [5.84333333 3.05733333 3.758      1.19933333]\n",
      " [5.84333333 3.05733333 3.758      1.19933333]\n",
      " [5.84333333 3.05733333 3.758      1.19933333]\n",
      " [5.84333333 3.05733333 3.758      1.19933333]\n",
      " [5.84333333 3.05733333 3.758      1.19933333]\n",
      " [5.84333333 3.05733333 3.758      1.19933333]\n",
      " [5.84333333 3.05733333 3.758      1.19933333]\n",
      " [5.84333333 3.05733333 3.758      1.19933333]\n",
      " [5.84333333 3.05733333 3.758      1.19933333]\n",
      " [5.84333333 3.05733333 3.758      1.19933333]\n",
      " [5.84333333 3.05733333 3.758      1.19933333]\n",
      " [5.84333333 3.05733333 3.758      1.19933333]\n",
      " [5.84333333 3.05733333 3.758      1.19933333]\n",
      " [5.84333333 3.05733333 3.758      1.19933333]\n",
      " [5.84333333 3.05733333 3.758      1.19933333]\n",
      " [5.84333333 3.05733333 3.758      1.19933333]\n",
      " [5.84333333 3.05733333 3.758      1.19933333]\n",
      " [5.84333333 3.05733333 3.758      1.19933333]\n",
      " [5.84333333 3.05733333 3.758      1.19933333]\n",
      " [5.84333333 3.05733333 3.758      1.19933333]\n",
      " [5.84333333 3.05733333 3.758      1.19933333]\n",
      " [5.84333333 3.05733333 3.758      1.19933333]\n",
      " [5.84333333 3.05733333 3.758      1.19933333]\n",
      " [5.84333333 3.05733333 3.758      1.19933333]\n",
      " [5.84333333 3.05733333 3.758      1.19933333]\n",
      " [5.84333333 3.05733333 3.758      1.19933333]\n",
      " [5.84333333 3.05733333 3.758      1.19933333]\n",
      " [5.84333333 3.05733333 3.758      1.19933333]\n",
      " [5.84333333 3.05733333 3.758      1.19933333]\n",
      " [5.84333333 3.05733333 3.758      1.19933333]\n",
      " [5.84333333 3.05733333 3.758      1.19933333]\n",
      " [5.84333333 3.05733333 3.758      1.19933333]\n",
      " [5.84333333 3.05733333 3.758      1.19933333]\n",
      " [5.84333333 3.05733333 3.758      1.19933333]\n",
      " [5.84333333 3.05733333 3.758      1.19933333]\n",
      " [5.84333333 3.05733333 3.758      1.19933333]\n",
      " [5.84333333 3.05733333 3.758      1.19933333]\n",
      " [5.84333333 3.05733333 3.758      1.19933333]\n",
      " [5.84333333 3.05733333 3.758      1.19933333]\n",
      " [5.84333333 3.05733333 3.758      1.19933333]]\n"
     ]
    }
   ],
   "source": [
    "N = X.shape[0] # 행 개수\n",
    "\n",
    "print(1/N * np.dot(np.ones((N, 1)), np.ones((N, 1)).T) @ X)"
   ]
  },
  {
   "cell_type": "markdown",
   "metadata": {},
   "source": [
    "### 연습문제 2.2.6"
   ]
  },
  {
   "cell_type": "code",
   "execution_count": 9,
   "metadata": {},
   "outputs": [
    {
     "name": "stdout",
     "output_type": "stream",
     "text": [
      "[[95]]\n",
      "[[95]]\n"
     ]
    }
   ],
   "source": [
    "first = np.array([[1, 2]]) @ np.array([[1, 2], [3, 4]]) @ np.array([[5], [6]])\n",
    "second = np.array([[1, 2]]) @ (np.array([[1, 2], [3, 4]]) @ np.array([[5], [6]]))\n",
    "\n",
    "print(first)\n",
    "print(second)"
   ]
  },
  {
   "cell_type": "markdown",
   "metadata": {},
   "source": [
    "### 연습문제 2.2.7"
   ]
  },
  {
   "cell_type": "code",
   "execution_count": 20,
   "metadata": {},
   "outputs": [
    {
     "name": "stdout",
     "output_type": "stream",
     "text": [
      "[[1 2 3]\n",
      " [4 5 6]]\n"
     ]
    }
   ],
   "source": [
    "X = np.array([[1, 2, 3], [4, 5, 6]])\n",
    "print(X)"
   ]
  },
  {
   "cell_type": "code",
   "execution_count": 21,
   "metadata": {},
   "outputs": [
    {
     "name": "stdout",
     "output_type": "stream",
     "text": [
      "[2 3 4]\n"
     ]
    }
   ],
   "source": [
    "w = np.array([2, 3, 4])\n",
    "print(w)"
   ]
  },
  {
   "cell_type": "code",
   "execution_count": 22,
   "metadata": {},
   "outputs": [
    {
     "name": "stdout",
     "output_type": "stream",
     "text": [
      "[1 4]\n"
     ]
    }
   ],
   "source": [
    "# c1, c2, c3는 X의 열 벡터\n",
    "c1 = X[:, 0]\n",
    "c2 = X[:, 1]\n",
    "c3 = X[:, 2]\n",
    "\n",
    "print(c1)"
   ]
  },
  {
   "cell_type": "code",
   "execution_count": 24,
   "metadata": {},
   "outputs": [
    {
     "name": "stdout",
     "output_type": "stream",
     "text": [
      "[20 47]\n"
     ]
    }
   ],
   "source": [
    "Xw = X @ w\n",
    "print(Xw)"
   ]
  },
  {
   "cell_type": "code",
   "execution_count": 25,
   "metadata": {},
   "outputs": [
    {
     "name": "stdout",
     "output_type": "stream",
     "text": [
      "[20 47]\n"
     ]
    }
   ],
   "source": [
    "linear = w[0]*c1 + w[1]*c2 + w[2]*c3\n",
    "print(linear)"
   ]
  },
  {
   "cell_type": "markdown",
   "metadata": {},
   "source": [
    "### 연습문제 2.2.8"
   ]
  },
  {
   "cell_type": "code",
   "execution_count": 26,
   "metadata": {},
   "outputs": [
    {
     "name": "stdout",
     "output_type": "stream",
     "text": [
      "[[1 4 7]\n",
      " [2 5 8]\n",
      " [3 6 9]]\n"
     ]
    }
   ],
   "source": [
    "# v1, v2, v3 벡터 정의\n",
    "v1 = np.array([1, 2, 3])\n",
    "v2 = np.array([4, 5, 6])\n",
    "v3 = np.array([7, 8, 9])\n",
    "\n",
    "# V 행렬 정의\n",
    "V = np.column_stack((v1, v2, v3))\n",
    "print(V)"
   ]
  },
  {
   "cell_type": "code",
   "execution_count": 27,
   "metadata": {},
   "outputs": [
    {
     "name": "stdout",
     "output_type": "stream",
     "text": [
      "[2 4 6]\n"
     ]
    }
   ],
   "source": [
    "# λ 벡터 정의\n",
    "lambda_vec = np.array([2, 0, 0]) # λ1 = 2\n",
    "\n",
    "# Vλ 계산\n",
    "V_lambda = V @ lambda_vec\n",
    "print(V_lambda)"
   ]
  },
  {
   "cell_type": "code",
   "execution_count": 28,
   "metadata": {},
   "outputs": [
    {
     "name": "stdout",
     "output_type": "stream",
     "text": [
      "[2 4 6]\n"
     ]
    }
   ],
   "source": [
    "# λ1 * v1 계산\n",
    "lambda_v1 = lambda_vec[0] * v1\n",
    "print(lambda_v1)"
   ]
  },
  {
   "cell_type": "code",
   "execution_count": 29,
   "metadata": {},
   "outputs": [
    {
     "data": {
      "text/plain": [
       "True"
      ]
     },
     "execution_count": 29,
     "metadata": {},
     "output_type": "execute_result"
    }
   ],
   "source": [
    "np.allclose(V_lambda, lambda_v1)"
   ]
  },
  {
   "cell_type": "markdown",
   "metadata": {},
   "source": [
    "### 연습문제 2.2.9"
   ]
  },
  {
   "cell_type": "code",
   "execution_count": 42,
   "metadata": {},
   "outputs": [
    {
     "name": "stdout",
     "output_type": "stream",
     "text": [
      "[[1 2 3]\n",
      " [4 5 6]]\n"
     ]
    }
   ],
   "source": [
    "# x1, x2 정의 (임의의 값으로 설정)\n",
    "x1 = np.array([[1], [2], [3]])\n",
    "x2 = np.array([[4], [5], [6]])\n",
    "\n",
    "# X 정의 (x1, x2가 행 벡터로 쌓인 행렬)\n",
    "X = np.vstack((x1.T, x2.T))\n",
    "print(X)"
   ]
  },
  {
   "cell_type": "code",
   "execution_count": 43,
   "metadata": {},
   "outputs": [
    {
     "name": "stdout",
     "output_type": "stream",
     "text": [
      "[[ 50]\n",
      " [122]]\n"
     ]
    }
   ],
   "source": [
    "w = np.array([[7], [8], [9]])\n",
    "\n",
    "Xw = X @ w\n",
    "print(Xw)"
   ]
  },
  {
   "cell_type": "code",
   "execution_count": 50,
   "metadata": {},
   "outputs": [
    {
     "name": "stdout",
     "output_type": "stream",
     "text": [
      "[[ 50]\n",
      " [122]]\n"
     ]
    }
   ],
   "source": [
    "x1Tw = x1.T @ w\n",
    "x2Tw = x2.T @ w\n",
    "combine = np.vstack((x1Tw, x2Tw))\n",
    "print(combine)"
   ]
  },
  {
   "cell_type": "code",
   "execution_count": 51,
   "metadata": {},
   "outputs": [
    {
     "name": "stdout",
     "output_type": "stream",
     "text": [
      "True\n"
     ]
    }
   ],
   "source": [
    "print(np.allclose(Xw, combine))"
   ]
  },
  {
   "cell_type": "markdown",
   "metadata": {},
   "source": [
    "### 연습문제 2.2.11"
   ]
  },
  {
   "cell_type": "code",
   "execution_count": 52,
   "metadata": {},
   "outputs": [
    {
     "data": {
      "text/plain": [
       "array([1, 2, 3])"
      ]
     },
     "execution_count": 52,
     "metadata": {},
     "output_type": "execute_result"
    }
   ],
   "source": [
    "x = np.array([1, 2, 3])\n",
    "x"
   ]
  },
  {
   "cell_type": "code",
   "execution_count": 53,
   "metadata": {},
   "outputs": [
    {
     "data": {
      "text/plain": [
       "array([[1, 2, 3],\n",
       "       [4, 5, 6],\n",
       "       [7, 8, 9]])"
      ]
     },
     "execution_count": 53,
     "metadata": {},
     "output_type": "execute_result"
    }
   ],
   "source": [
    "A = np.arange(1, 10).reshape(3, 3)\n",
    "A"
   ]
  },
  {
   "cell_type": "code",
   "execution_count": 54,
   "metadata": {},
   "outputs": [
    {
     "data": {
      "text/plain": [
       "np.int64(228)"
      ]
     },
     "execution_count": 54,
     "metadata": {},
     "output_type": "execute_result"
    }
   ],
   "source": [
    "x.T @ A @ x"
   ]
  },
  {
   "cell_type": "markdown",
   "metadata": {},
   "source": [
    "### 연습문제 2.2.12"
   ]
  },
  {
   "cell_type": "code",
   "execution_count": 55,
   "metadata": {},
   "outputs": [
    {
     "data": {
      "text/plain": [
       "np.int64(912)"
      ]
     },
     "execution_count": 55,
     "metadata": {},
     "output_type": "execute_result"
    }
   ],
   "source": [
    "x = np.array([2, 4, 6])\n",
    "A = np.arange(1, 10).reshape(3, 3)\n",
    "\n",
    "x.T @ A @ x"
   ]
  },
  {
   "cell_type": "code",
   "execution_count": 56,
   "metadata": {},
   "outputs": [
    {
     "data": {
      "text/plain": [
       "np.float64(912.0)"
      ]
     },
     "execution_count": 56,
     "metadata": {},
     "output_type": "execute_result"
    }
   ],
   "source": [
    "1/2 * (x.T @ (A + A.T) @ x)"
   ]
  },
  {
   "cell_type": "markdown",
   "metadata": {},
   "source": [
    "### 연습문제 2.2.13"
   ]
  },
  {
   "cell_type": "code",
   "execution_count": 57,
   "metadata": {},
   "outputs": [
    {
     "name": "stdout",
     "output_type": "stream",
     "text": [
      "[[1 4 7]\n",
      " [2 5 8]\n",
      " [3 6 9]]\n"
     ]
    }
   ],
   "source": [
    "# v1, v2, v3 벡터 정의\n",
    "v1 = np.array([1, 2, 3])\n",
    "v2 = np.array([4, 5, 6])\n",
    "v3 = np.array([7, 8, 9])\n",
    "\n",
    "# V 행렬 정의\n",
    "V = np.column_stack((v1, v2, v3))\n",
    "\n",
    "print(V)"
   ]
  },
  {
   "cell_type": "code",
   "execution_count": 58,
   "metadata": {},
   "outputs": [
    {
     "name": "stdout",
     "output_type": "stream",
     "text": [
      "[[2 0 0]\n",
      " [0 3 0]\n",
      " [0 0 4]]\n"
     ]
    }
   ],
   "source": [
    "# A 정방행렬 정의 (임의의 값으로 설정)\n",
    "A = np.array([[1, 0, 2],\n",
    "              [0, 1, 1],\n",
    "              [1, 2, 1]])\n",
    "\n",
    "# Λ 대각행렬 정의\n",
    "Lambda = np.diag([2, 3, 4])\n",
    "print(Lambda)"
   ]
  },
  {
   "cell_type": "code",
   "execution_count": 61,
   "metadata": {},
   "outputs": [
    {
     "name": "stdout",
     "output_type": "stream",
     "text": [
      "[[ 7 16 25]\n",
      " [ 5 11 17]\n",
      " [ 8 20 32]]\n",
      "[[ 7 16 25]\n",
      " [ 5 11 17]\n",
      " [ 8 20 32]]\n"
     ]
    },
    {
     "data": {
      "text/plain": [
       "True"
      ]
     },
     "execution_count": 61,
     "metadata": {},
     "output_type": "execute_result"
    }
   ],
   "source": [
    "# AV 계산\n",
    "AV = A @ V\n",
    "print(AV)\n",
    "\n",
    "sumAV = np.column_stack((A @ v1, A @ v2, A @ v3)) \n",
    "print(sumAV)\n",
    "\n",
    "np.allclose(AV, sumAV)"
   ]
  },
  {
   "cell_type": "code",
   "execution_count": 63,
   "metadata": {},
   "outputs": [
    {
     "name": "stdout",
     "output_type": "stream",
     "text": [
      "[[ 2 12 28]\n",
      " [ 4 15 32]\n",
      " [ 6 18 36]]\n",
      "[[ 2 12 28]\n",
      " [ 4 15 32]\n",
      " [ 6 18 36]]\n"
     ]
    },
    {
     "data": {
      "text/plain": [
       "True"
      ]
     },
     "execution_count": 63,
     "metadata": {},
     "output_type": "execute_result"
    }
   ],
   "source": [
    "# VΛ 계산\n",
    "V_Lambda = V @ Lambda\n",
    "print(V_Lambda)\n",
    "\n",
    "sumV_Lambda =np.column_stack((2*v1, 3*v2, 4*v3))\n",
    "print(sumV_Lambda)\n",
    "\n",
    "np.allclose(V_Lambda, sumV_Lambda)"
   ]
  },
  {
   "cell_type": "markdown",
   "metadata": {},
   "source": [
    "### 연습문제 2.2.14"
   ]
  },
  {
   "cell_type": "code",
   "execution_count": 65,
   "metadata": {},
   "outputs": [
    {
     "name": "stdout",
     "output_type": "stream",
     "text": [
      "[[1 2 3]\n",
      " [4 5 6]\n",
      " [7 8 9]]\n"
     ]
    }
   ],
   "source": [
    "a1 = np.array([1, 2, 3])\n",
    "a2 = np.array([4, 5, 6])\n",
    "a3 = np.array([7, 8, 9])\n",
    "\n",
    "A = np.vstack((a1, a2, a3))\n",
    "print(A)"
   ]
  },
  {
   "cell_type": "code",
   "execution_count": 70,
   "metadata": {},
   "outputs": [
    {
     "name": "stdout",
     "output_type": "stream",
     "text": [
      "[[1 4 7]\n",
      " [2 5 8]\n",
      " [3 6 9]]\n",
      "[[ 66  78  90]\n",
      " [ 78  93 108]\n",
      " [ 90 108 126]]\n"
     ]
    }
   ],
   "source": [
    "ATA = A.T @ A\n",
    "print(A.T)\n",
    "print(ATA)"
   ]
  },
  {
   "cell_type": "code",
   "execution_count": 73,
   "metadata": {},
   "outputs": [
    {
     "name": "stdout",
     "output_type": "stream",
     "text": [
      "[[1 4 7]\n",
      " [2 5 8]\n",
      " [3 6 9]]\n",
      "[[ 66  78  90]\n",
      " [ 78  93 108]\n",
      " [ 90 108 126]]\n"
     ]
    }
   ],
   "source": [
    "a1T = a1.reshape(3, 1)\n",
    "a2T = a2.reshape(3, 1)\n",
    "a3T = a3.reshape(3, 1)\n",
    "\n",
    "AT = np.hstack((a1T, a2T, a3T))\n",
    "print(AT)\n",
    "AT_A = AT @ A\n",
    "print(AT_A)"
   ]
  },
  {
   "cell_type": "code",
   "execution_count": null,
   "metadata": {},
   "outputs": [],
   "source": []
  },
  {
   "cell_type": "code",
   "execution_count": null,
   "metadata": {},
   "outputs": [],
   "source": []
  }
 ],
 "metadata": {
  "kernelspec": {
   "display_name": "school",
   "language": "python",
   "name": "python3"
  },
  "language_info": {
   "codemirror_mode": {
    "name": "ipython",
    "version": 3
   },
   "file_extension": ".py",
   "mimetype": "text/x-python",
   "name": "python",
   "nbconvert_exporter": "python",
   "pygments_lexer": "ipython3",
   "version": "3.10.12"
  }
 },
 "nbformat": 4,
 "nbformat_minor": 2
}
