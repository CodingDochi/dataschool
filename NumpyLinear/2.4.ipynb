{
 "cells": [
  {
   "cell_type": "code",
   "execution_count": 3,
   "metadata": {},
   "outputs": [],
   "source": [
    "import numpy as np"
   ]
  },
  {
   "cell_type": "markdown",
   "metadata": {},
   "source": [
    "### 연습문제 2.4.3"
   ]
  },
  {
   "cell_type": "markdown",
   "metadata": {},
   "source": [
    "#### (1)"
   ]
  },
  {
   "cell_type": "code",
   "execution_count": 4,
   "metadata": {},
   "outputs": [
    {
     "name": "stdout",
     "output_type": "stream",
     "text": [
      "[[0.5 0. ]\n",
      " [0.  1. ]]\n",
      "[[0.5 0. ]\n",
      " [0.  1. ]]\n"
     ]
    }
   ],
   "source": [
    "A = np.array([[2, 0], [0, 1]])\n",
    "det_A = np.linalg.det(A)\n",
    "invert_A = 1/det_A * np.array([[1, 0], [0, 2]]).T\n",
    "print(invert_A)\n",
    "print(np.linalg.inv(A))"
   ]
  },
  {
   "cell_type": "markdown",
   "metadata": {},
   "source": [
    "#### (2)"
   ]
  },
  {
   "cell_type": "code",
   "execution_count": 5,
   "metadata": {},
   "outputs": [
    {
     "name": "stdout",
     "output_type": "stream",
     "text": [
      "[[ 0.70710678  0.70710678]\n",
      " [-0.70710678  0.70710678]]\n",
      "[[ 0.70710678  0.70710678]\n",
      " [-0.70710678  0.70710678]]\n"
     ]
    }
   ],
   "source": [
    "A = np.array([[1 / np.sqrt(2), -1 / np.sqrt(2)], [1 / np.sqrt(2), 1 / np.sqrt(2)]])\n",
    "det_A = np.linalg.det(A)\n",
    "invert_A = 1/det_A * np.array([[1 / np.sqrt(2), -1 / np.sqrt(2)], [1 / np.sqrt(2), 1 / np.sqrt(2)]]).T\n",
    "print(invert_A)\n",
    "print(np.linalg.inv(A))"
   ]
  },
  {
   "cell_type": "markdown",
   "metadata": {},
   "source": [
    "#### (3)"
   ]
  },
  {
   "cell_type": "code",
   "execution_count": 6,
   "metadata": {},
   "outputs": [
    {
     "name": "stdout",
     "output_type": "stream",
     "text": [
      "[[ 0.72111026  0.72111026]\n",
      " [-0.56568542  0.84852814]]\n",
      "[[ 0.72111026  0.72111026]\n",
      " [-0.56568542  0.84852814]]\n"
     ]
    }
   ],
   "source": [
    "A = np.array([[3/np.sqrt(13), -1/np.sqrt(2)], [2/np.sqrt(13), 1/np.sqrt(2)]])\n",
    "det_A = np.linalg.det(A)\n",
    "invert_A = 1/det_A * np.array([[1/np.sqrt(2), -2/np.sqrt(13)],[1/np.sqrt(2), 3/np.sqrt(13)]]).T\n",
    "print(invert_A)\n",
    "print(np.linalg.inv(A))"
   ]
  },
  {
   "cell_type": "markdown",
   "metadata": {},
   "source": [
    "#### (4)"
   ]
  },
  {
   "cell_type": "code",
   "execution_count": 7,
   "metadata": {},
   "outputs": [
    {
     "name": "stdout",
     "output_type": "stream",
     "text": [
      "[[ 0. -1.  1.]\n",
      " [ 1.  1. -1.]\n",
      " [-1. -0.  1.]]\n",
      "[[ 0. -1.  1.]\n",
      " [ 1.  1. -1.]\n",
      " [-1.  0.  1.]]\n"
     ]
    }
   ],
   "source": [
    "A = np.array([[1, 1, 0], [0, 1, 1], [1, 1, 1]])\n",
    "\n",
    "# 행렬식 계산\n",
    "det_A = np.linalg.det(A)\n",
    "\n",
    "# 코팩터 행렬 계산\n",
    "# np.zeros_like는 입력된 배열과 동일한 모양(shape)과 데이터 타입을 가지며, 모든 원소가 0으로 초기화된 배열을 생성\n",
    "cofactor_matrix = np.zeros_like(A, dtype=float)\n",
    "\n",
    "for i in range(3):  # 행 인덱스\n",
    "    for j in range(3):  # 열 인덱스\n",
    "        # 소행렬 추출\n",
    "        # np.ix_는 다차원 배열의 특정 행과 열을 교차하여 선택할 때 사용.\n",
    "        # 전달된 각 리스트를 다차원 배열의 특정 축에 매핑하여, \n",
    "        # 선택된 인덱스의 **카티션 곱(Cartesian product)**을 반환합니다. \n",
    "        # 반환된 값은 항상 2차원 배열입니다.\n",
    "        minor = A[np.ix_([x for x in range(3) if x != i], [y for y in range(3) if y != j])]\n",
    "        # 코팩터 계산: 부호 처리 포함\n",
    "        cofactor_matrix[i, j] = ((-1) ** (i + j)) * np.linalg.det(minor)\n",
    "\n",
    "# 역행렬 계산\n",
    "invert_A = (1 / det_A) * cofactor_matrix.T\n",
    "\n",
    "print(invert_A)\n",
    "print(np.linalg.inv(A))"
   ]
  },
  {
   "cell_type": "markdown",
   "metadata": {},
   "source": [
    "### 연습문제 2.4.4"
   ]
  },
  {
   "cell_type": "code",
   "execution_count": 8,
   "metadata": {},
   "outputs": [
    {
     "name": "stdout",
     "output_type": "stream",
     "text": [
      "[[1. 0.]\n",
      " [0. 1.]]\n",
      "[[ 1.0000000e+00  0.0000000e+00]\n",
      " [-4.4408921e-16  1.0000000e+00]]\n",
      "True\n",
      "True\n"
     ]
    }
   ],
   "source": [
    "# 정방행렬 A와 B 정의\n",
    "A = np.array([[2, 1],\n",
    "              [3, 2]])\n",
    "\n",
    "B = np.linalg.inv(A)  # A의 역행렬을 B로 정의\n",
    "\n",
    "# 단위행렬 I 정의\n",
    "I = np.eye(2)  # 2x2 단위행렬\n",
    "\n",
    "AB = np.dot(A, B)\n",
    "print(AB)\n",
    "BA = np.dot(B, A)\n",
    "print(BA)\n",
    "\n",
    "print(np.allclose(AB, I))\n",
    "print(np.allclose(BA, I))"
   ]
  },
  {
   "cell_type": "markdown",
   "metadata": {},
   "source": [
    "### 연습문제 2.4.5"
   ]
  },
  {
   "cell_type": "code",
   "execution_count": 9,
   "metadata": {},
   "outputs": [],
   "source": [
    "import pandas as pd\n",
    "\n",
    "data_url = \"http://lib.stat.cmu.edu/datasets/boston\"\n",
    "raw_df = pd.read_csv(data_url, sep=\"\\s+\", skiprows=22, header=None)\n",
    "data = np.hstack([raw_df.values[::2, :], raw_df.values[1::2, :2]])\n",
    "target = raw_df.values[1::2, 2]\n",
    "\n",
    "X = data\n",
    "y = target\n",
    "\n",
    "A = X[:4, [0, 4, 5, 6]]\n",
    "b = y[:4]"
   ]
  },
  {
   "cell_type": "code",
   "execution_count": 11,
   "metadata": {},
   "outputs": [
    {
     "name": "stdout",
     "output_type": "stream",
     "text": [
      "[[6.320e-03 5.380e-01 6.575e+00 6.520e+01]\n",
      " [2.731e-02 4.690e-01 6.421e+00 7.890e+01]\n",
      " [2.729e-02 4.690e-01 7.185e+00 6.110e+01]\n",
      " [3.237e-02 4.580e-01 6.998e+00 4.580e+01]]\n"
     ]
    }
   ],
   "source": [
    "print(A)"
   ]
  },
  {
   "cell_type": "code",
   "execution_count": 12,
   "metadata": {},
   "outputs": [
    {
     "name": "stdout",
     "output_type": "stream",
     "text": [
      "[24.  21.6 34.7 33.4]\n"
     ]
    }
   ],
   "source": [
    "print(b)"
   ]
  },
  {
   "cell_type": "code",
   "execution_count": 14,
   "metadata": {},
   "outputs": [
    {
     "name": "stdout",
     "output_type": "stream",
     "text": [
      "[-3.12710043e+02 -1.15193942e+02  1.44996465e+01 -1.13259317e-01]\n"
     ]
    }
   ],
   "source": [
    "x = np.dot(np.linalg.inv(A), b)\n",
    "print(x)"
   ]
  },
  {
   "cell_type": "markdown",
   "metadata": {},
   "source": [
    "### 연습문제 2.4.6"
   ]
  },
  {
   "cell_type": "code",
   "execution_count": 15,
   "metadata": {},
   "outputs": [
    {
     "data": {
      "text/plain": [
       "array([[-2.35172493e+01,  4.95752613e+01, -9.28388535e+01,\n",
       "         7.19277399e+01],\n",
       "       [ 5.96138349e+00,  6.66097478e+00, -2.68388003e+01,\n",
       "         1.58431788e+01],\n",
       "       [-2.19803095e-01, -8.06127089e-01,  1.99308607e+00,\n",
       "        -9.57270077e-01],\n",
       "       [-9.40782133e-03,  2.15240112e-02,  2.94704793e-02,\n",
       "        -4.11681401e-02]])"
      ]
     },
     "execution_count": 15,
     "metadata": {},
     "output_type": "execute_result"
    }
   ],
   "source": [
    "Apinv = np.linalg.inv(A.T @ A) @ A.T\n",
    "Apinv"
   ]
  },
  {
   "cell_type": "code",
   "execution_count": 16,
   "metadata": {},
   "outputs": [
    {
     "data": {
      "text/plain": [
       "array([-3.12710043e+02, -1.15193942e+02,  1.44996465e+01, -1.13259317e-01])"
      ]
     },
     "execution_count": 16,
     "metadata": {},
     "output_type": "execute_result"
    }
   ],
   "source": [
    "x = Apinv @ b\n",
    "x"
   ]
  },
  {
   "cell_type": "code",
   "execution_count": 17,
   "metadata": {},
   "outputs": [
    {
     "data": {
      "text/plain": [
       "array([24. , 21.6, 34.7, 33.4])"
      ]
     },
     "execution_count": 17,
     "metadata": {},
     "output_type": "execute_result"
    }
   ],
   "source": [
    "A @ x"
   ]
  },
  {
   "cell_type": "code",
   "execution_count": 18,
   "metadata": {},
   "outputs": [
    {
     "data": {
      "text/plain": [
       "array([24. , 21.6, 34.7, 33.4])"
      ]
     },
     "execution_count": 18,
     "metadata": {},
     "output_type": "execute_result"
    }
   ],
   "source": [
    "b"
   ]
  },
  {
   "cell_type": "markdown",
   "metadata": {},
   "source": []
  }
 ],
 "metadata": {
  "kernelspec": {
   "display_name": "school",
   "language": "python",
   "name": "python3"
  },
  "language_info": {
   "codemirror_mode": {
    "name": "ipython",
    "version": 3
   },
   "file_extension": ".py",
   "mimetype": "text/x-python",
   "name": "python",
   "nbconvert_exporter": "python",
   "pygments_lexer": "ipython3",
   "version": "3.10.12"
  }
 },
 "nbformat": 4,
 "nbformat_minor": 2
}
